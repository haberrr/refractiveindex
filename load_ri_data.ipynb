{
 "cells": [
  {
   "cell_type": "code",
   "execution_count": 1,
   "metadata": {
    "collapsed": false
   },
   "outputs": [],
   "source": [
    "import yaml\n",
    "import os\n",
    "import io\n",
    "import re\n",
    "\n",
    "import pandas as pd\n",
    "import numpy as np\n",
    "import peakutils as pu\n",
    "import matplotlib.pyplot as plt\n",
    "\n",
    "%matplotlib inline"
   ]
  },
  {
   "cell_type": "code",
   "execution_count": 2,
   "metadata": {
    "collapsed": false
   },
   "outputs": [],
   "source": [
    "def get_file_list(basedir):\n",
    "    files = [file for file in os.listdir(basedir) if os.path.isfile(basedir+file)]\n",
    "    dirs = [d for d in os.listdir(basedir) if os.path.isdir(basedir+d)]\n",
    "    0\n",
    "    for d in dirs:\n",
    "        files = files + [[d, file] for file in get_file_list(basedir+d+'/')]\n",
    "        \n",
    "    return files"
   ]
  },
  {
   "cell_type": "code",
   "execution_count": 3,
   "metadata": {
    "collapsed": false
   },
   "outputs": [],
   "source": [
    "basedir = 'database/main/'\n",
    "filelist = get_file_list(basedir)"
   ]
  },
  {
   "cell_type": "code",
   "execution_count": 4,
   "metadata": {
    "collapsed": false
   },
   "outputs": [],
   "source": [
    "def load_into_pandas(filelist, basedir):\n",
    "    df = pd.DataFrame()\n",
    "    \n",
    "    for file in filelist:\n",
    "        tmp = yaml.load(open('/'.join([basedir[:-1]]+file)))\n",
    "        if tmp['DATA'][0]['type'] == 'tabulated nk':\n",
    "            df = df.append(yaml2series(tmp, file))\n",
    "    \n",
    "    df.sort_index(inplace=True)\n",
    "    return df\n",
    "\n",
    "def yaml2series(yd, file):\n",
    "    df = pd.read_csv(io.StringIO(yd['DATA'][0]['data']),\n",
    "                     delimiter=' ', header=None, names=['wl', 'n', 'k'])\n",
    "    \n",
    "    df['mat'] = file[0]\n",
    "    df['tbl'] = re.sub('[^\\w0-9]', '', re.match('(.+)\\.yml', file[1]).group(1))\n",
    "    \n",
    "    df = df.set_index(['mat', 'tbl'])\n",
    "    \n",
    "    return df"
   ]
  },
  {
   "cell_type": "code",
   "execution_count": 5,
   "metadata": {
    "collapsed": false
   },
   "outputs": [],
   "source": [
    "df = load_into_pandas(filelist, basedir)"
   ]
  },
  {
   "cell_type": "code",
   "execution_count": 6,
   "metadata": {
    "collapsed": false
   },
   "outputs": [],
   "source": [
    "df['epsre'] = df[['n', 'k']].apply(lambda x: x[0]**2 - x[1]**2, axis=1)\n",
    "df['epsim'] = df[['n', 'k']].apply(lambda x: 2*x[0]*x[1], axis=1)"
   ]
  },
  {
   "cell_type": "code",
   "execution_count": 7,
   "metadata": {
    "collapsed": true,
    "deletable": true,
    "editable": true
   },
   "outputs": [],
   "source": [
    "def get_anomalous_disp(df):\n",
    "    deps = np.gradient(df['epsre'])\n",
    "    peaks = pu.indexes(deps)\n",
    "    \n",
    "    peaks = [el for el in peaks if deps[el] > 0]\n",
    "    \n",
    "    if not peaks:\n",
    "        return False\n",
    "    if any( (df['wl'][peaks] > 0.5) & (df['wl'][peaks] < 5) ):\n",
    "        return True\n",
    "    else:\n",
    "        return False    "
   ]
  },
  {
   "cell_type": "code",
   "execution_count": 8,
   "metadata": {
    "collapsed": false
   },
   "outputs": [],
   "source": [
    "g = df.groupby(df.index)\n",
    "res = g[['wl', 'epsre']].apply(get_anomalous_disp)\n",
    "\n",
    "index = iter([ind for ind in res.index if res[ind] == True])"
   ]
  },
  {
   "cell_type": "code",
   "execution_count": null,
   "metadata": {
    "collapsed": true
   },
   "outputs": [],
   "source": []
  }
 ],
 "metadata": {
  "kernelspec": {
   "display_name": "Python 3",
   "language": "python",
   "name": "python3"
  },
  "language_info": {
   "codemirror_mode": {
    "name": "ipython",
    "version": 3
   },
   "file_extension": ".py",
   "mimetype": "text/x-python",
   "name": "python",
   "nbconvert_exporter": "python",
   "pygments_lexer": "ipython3",
   "version": "3.6.0"
  }
 },
 "nbformat": 4,
 "nbformat_minor": 2
}
